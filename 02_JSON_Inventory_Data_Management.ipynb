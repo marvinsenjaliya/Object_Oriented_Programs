{
 "cells": [
  {
   "cell_type": "code",
   "execution_count": null,
   "metadata": {},
   "outputs": [],
   "source": [
    "\"\"\"\n",
    "Created on: 1/25/2020\n",
    "@author:Marvin Senjaliya\n",
    "\"\"\"\n",
    "\"\"\"\n",
    "problem statement:\n",
    "JSON Inventory Data Management of Rice, Pulses and Wheats\n",
    "Desc -> Create a JSON file having Inventory Details for Rice, Pulses and Wheats with properties name, weight, price per kg. \n",
    "Use Library : Java JSON Library, For IOS JSON Library use NSJSONSerialization for parsing the JSON.\n",
    "I/P -> read in JSON File\n",
    "Logic -> Get JSON Object in Java or NSDictionary in iOS. Create Inventory Object from JSON. Calculate the value for every Inventory. \n",
    "O/P -> Create the JSON from Inventory Object and output the JSON String\n",
    "\n",
    "\"\"\""
   ]
  }
 ],
 "metadata": {
  "kernelspec": {
   "display_name": "Python 3",
   "language": "python",
   "name": "python3"
  },
  "language_info": {
   "codemirror_mode": {
    "name": "ipython",
    "version": 3
   },
   "file_extension": ".py",
   "mimetype": "text/x-python",
   "name": "python",
   "nbconvert_exporter": "python",
   "pygments_lexer": "ipython3",
   "version": "3.7.4"
  }
 },
 "nbformat": 4,
 "nbformat_minor": 2
}
