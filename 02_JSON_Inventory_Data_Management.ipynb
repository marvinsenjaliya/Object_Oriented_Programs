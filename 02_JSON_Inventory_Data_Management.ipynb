{
 "cells": [
  {
   "cell_type": "code",
   "execution_count": null,
   "metadata": {},
   "outputs": [],
   "source": [
    "\"\"\"\n",
    "Created on: 1/25/2020\n",
    "@author:Marvin Senjaliya\n",
    "\"\"\"\n",
    "\"\"\"\n",
    "problem statement:\n",
    "JSON Inventory Data Management of Rice, Pulses and Wheats\n",
    "Desc -> Create a JSON file having Inventory Details for Rice, Pulses and Wheats with properties name, weight, price per kg. \n",
    "Use Library : Java JSON Library, For IOS JSON Library use NSJSONSerialization for parsing the JSON.\n",
    "I/P -> read in JSON File\n",
    "Logic -> Get JSON Object in Java or NSDictionary in iOS. Create Inventory Object from JSON. Calculate the value for every Inventory. \n",
    "O/P -> Create the JSON from Inventory Object and output the JSON String\n",
    "\n",
    "\"\"\""
   ]
  },
  {
   "cell_type": "code",
   "execution_count": null,
   "metadata": {},
   "outputs": [],
   "source": [
    "import json\n",
    "\n",
    "class Item:\n",
    "    def __init__(self,data):\n",
    "        self.data = data\n",
    "        self.json_string = json.dumps(self.data)\n",
    "    def get_val(self,num,kg):\n",
    "        self.python_data=json.loads(self.json_string)\n",
    "        if num==1:\n",
    "            print(self.python_data['rice'])\n",
    "            self.item_value=kg*self.python_data['rice'][0]['price']\n",
    "            print(\"your Bill is:\",self.item_value)\n",
    "        if num==2:\n",
    "            print(self.python_data['pulses'])\n",
    "            self.item_value=kg*self.python_data['pulses'][0]['price']\n",
    "            print(\"your Bill is:\",self.item_value)\n",
    "        if num==3:\n",
    "            print(self.python_data['wheat'])\n",
    "            self.item_value=kg*self.python_data['wheat'][0]['price']\n",
    "            print(\"your Bill is:\",self.item_value)\n",
    "    \n",
    "    \n",
    "data={'rice':[{'name': 'basmati', 'weight': 1, 'price': 100}],\n",
    "         'pulses':[{'name':'grain','weight':1,'price':200}],\n",
    "         'wheat':[{'name':'peach','weight':1,'price':300}]}\n",
    "item=Item(data)\n",
    "num=int(input(\"Enter your choice:\\n1:for rice\\n2:for pulse\\n3:for wheat\"))\n",
    "kg=int(input(\"Enter how many kg you want??\"))\n",
    "item.get_val(num,kg)\n",
    "            "
   ]
  }
 ],
 "metadata": {
  "kernelspec": {
   "display_name": "Python 3",
   "language": "python",
   "name": "python3"
  },
  "language_info": {
   "codemirror_mode": {
    "name": "ipython",
    "version": 3
   },
   "file_extension": ".py",
   "mimetype": "text/x-python",
   "name": "python",
   "nbconvert_exporter": "python",
   "pygments_lexer": "ipython3",
   "version": "3.7.4"
  }
 },
 "nbformat": 4,
 "nbformat_minor": 2
}
