{
 "cells": [
  {
   "cell_type": "code",
   "execution_count": null,
   "metadata": {},
   "outputs": [],
   "source": [
    "\"\"\"\n",
    "Created on 1/27/2020\n",
    "@author:Marvin Senjaliya\n",
    "\"\"\"\n",
    "\"\"\"\n",
    "problem statement:\n",
    "Stock Account Management\n",
    "Desc -> Write a program to read in Stock Names, Number of Share, Share Price. Print a Stock Report with total value of each Stock and the total value of Stock.\n",
    "I/P -> N number of Stocks, for Each Stock Read In the Share Name, Number of Share, and Share Price\n",
    "Logic -> Calculate the value of each stock and the total value\n",
    "O/P -> Print the Stock Report.\n",
    "Hint -> Create Stock and Stock Portfolio Class holding the list of Stocks read from the input file. Have functions in the Class to calculate the value of each stock and the value of total stocks\n",
    "\n",
    "\"\"\""
   ]
  },
  {
   "cell_type": "code",
   "execution_count": 20,
   "metadata": {},
   "outputs": [
    {
     "name": "stdout",
     "output_type": "stream",
     "text": [
      "please,Enter the name of stock:ril\n",
      "please,Enter the number of stock:100\n",
      "pleasse,Enter the price of stock:1000\n",
      "Your,portfolio\n",
      "name of stock: ril\n",
      "price of one stock 1000\n",
      "total investment: 100000\n"
     ]
    }
   ],
   "source": [
    "class stock:\n",
    "    def __init__(self,name,number,price):\n",
    "        self.name=name\n",
    "        self.number=number\n",
    "        self.price=price\n",
    "        \n",
    "class stockportfolio(stock):\n",
    "    def __init__(self,name,number,price):\n",
    "        super().__init__(name,number,price)\n",
    "    def printportfolio(self):\n",
    "        print(\"Your,portfolio\")\n",
    "        print(\"name of stock:\",self.name)\n",
    "        print(\"price of one stock\",self.price)\n",
    "        print(\"total investment:\",self.price*self.number)\n",
    "\n",
    "\n",
    "\n",
    "if __name__=='__main__':\n",
    "    for i in range(1,3):\n",
    "        name=input(\"please,Enter the name of stock:\")\n",
    "        number=int(input(\"please,Enter the number of stock:\"))\n",
    "        price=int(input(\"pleasse,Enter the price of stock:\"))\n",
    "        obj=stockportfolio(name,number,price)\n",
    "        obj.printportfolio()\n"
   ]
  },
  {
   "cell_type": "code",
   "execution_count": null,
   "metadata": {},
   "outputs": [],
   "source": []
  }
 ],
 "metadata": {
  "kernelspec": {
   "display_name": "Python 3",
   "language": "python",
   "name": "python3"
  },
  "language_info": {
   "codemirror_mode": {
    "name": "ipython",
    "version": 3
   },
   "file_extension": ".py",
   "mimetype": "text/x-python",
   "name": "python",
   "nbconvert_exporter": "python",
   "pygments_lexer": "ipython3",
   "version": "3.7.4"
  }
 },
 "nbformat": 4,
 "nbformat_minor": 2
}
